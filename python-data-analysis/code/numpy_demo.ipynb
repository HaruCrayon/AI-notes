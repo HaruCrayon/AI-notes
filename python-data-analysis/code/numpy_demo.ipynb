{
 "cells": [
  {
   "cell_type": "code",
   "execution_count": 1,
   "id": "e671226c-b529-4dee-8407-1e2c19621eff",
   "metadata": {},
   "outputs": [],
   "source": [
    "import numpy as np"
   ]
  },
  {
   "cell_type": "markdown",
   "id": "17c1e618-296f-4ba6-a43a-1f2b1ea0acbd",
   "metadata": {},
   "source": [
    "### 3.2.1 ndarray的属性"
   ]
  },
  {
   "cell_type": "code",
   "execution_count": 2,
   "id": "bbe8c130-8055-484f-81c0-6eb2ba41beb0",
   "metadata": {},
   "outputs": [],
   "source": [
    "score = np.array([[80, 89, 86, 67, 79],\n",
    "[78, 97, 89, 67, 81],\n",
    "[90, 94, 78, 67, 74],\n",
    "[91, 91, 90, 67, 69],\n",
    "[76, 87, 75, 67, 86],\n",
    "[70, 79, 84, 67, 84],\n",
    "[94, 92, 93, 67, 64],\n",
    "[86, 85, 83, 67, 80]])"
   ]
  },
  {
   "cell_type": "code",
   "execution_count": 3,
   "id": "fcfb2fce-a28e-45f4-b613-4777b5b5ebd9",
   "metadata": {},
   "outputs": [
    {
     "data": {
      "text/plain": [
       "array([[80, 89, 86, 67, 79],\n",
       "       [78, 97, 89, 67, 81],\n",
       "       [90, 94, 78, 67, 74],\n",
       "       [91, 91, 90, 67, 69],\n",
       "       [76, 87, 75, 67, 86],\n",
       "       [70, 79, 84, 67, 84],\n",
       "       [94, 92, 93, 67, 64],\n",
       "       [86, 85, 83, 67, 80]])"
      ]
     },
     "execution_count": 3,
     "metadata": {},
     "output_type": "execute_result"
    }
   ],
   "source": [
    "score"
   ]
  },
  {
   "cell_type": "code",
   "execution_count": 4,
   "id": "623aaf42-ec31-4bf8-9c10-288f21a691db",
   "metadata": {},
   "outputs": [
    {
     "data": {
      "text/plain": [
       "numpy.ndarray"
      ]
     },
     "execution_count": 4,
     "metadata": {},
     "output_type": "execute_result"
    }
   ],
   "source": [
    "type(score)"
   ]
  },
  {
   "cell_type": "code",
   "execution_count": 5,
   "id": "0e7e5d01-5092-4111-8575-5913ffad1617",
   "metadata": {},
   "outputs": [
    {
     "data": {
      "text/plain": [
       "(8, 5)"
      ]
     },
     "execution_count": 5,
     "metadata": {},
     "output_type": "execute_result"
    }
   ],
   "source": [
    "score.shape"
   ]
  },
  {
   "cell_type": "code",
   "execution_count": 6,
   "id": "0c62a3d8-13aa-482d-9a02-f57d811c4644",
   "metadata": {},
   "outputs": [
    {
     "data": {
      "text/plain": [
       "2"
      ]
     },
     "execution_count": 6,
     "metadata": {},
     "output_type": "execute_result"
    }
   ],
   "source": [
    "score.ndim"
   ]
  },
  {
   "cell_type": "code",
   "execution_count": 7,
   "id": "dfca8ad7-02d1-4861-9902-db2ccd1d087d",
   "metadata": {},
   "outputs": [
    {
     "data": {
      "text/plain": [
       "40"
      ]
     },
     "execution_count": 7,
     "metadata": {},
     "output_type": "execute_result"
    }
   ],
   "source": [
    "score.size"
   ]
  },
  {
   "cell_type": "code",
   "execution_count": 8,
   "id": "cf8826a1-7581-406b-af66-4adf5f6ba817",
   "metadata": {},
   "outputs": [
    {
     "data": {
      "text/plain": [
       "dtype('int64')"
      ]
     },
     "execution_count": 8,
     "metadata": {},
     "output_type": "execute_result"
    }
   ],
   "source": [
    "score.dtype"
   ]
  },
  {
   "cell_type": "code",
   "execution_count": 9,
   "id": "d6001100-84f7-4118-90a3-a1dd6089a9da",
   "metadata": {},
   "outputs": [
    {
     "data": {
      "text/plain": [
       "8"
      ]
     },
     "execution_count": 9,
     "metadata": {},
     "output_type": "execute_result"
    }
   ],
   "source": [
    "score.itemsize"
   ]
  },
  {
   "cell_type": "markdown",
   "id": "072a011e-5638-4d27-90cc-84a6701ceeed",
   "metadata": {},
   "source": [
    "### 3.2.2 ndarray的形状"
   ]
  },
  {
   "cell_type": "code",
   "execution_count": 10,
   "id": "61bf16f0-7004-426b-9647-f7dc5a39e7b4",
   "metadata": {},
   "outputs": [],
   "source": [
    "a = np.array([[1,2,3],[4,5,6]])\n",
    "b = np.array([1,2,3,4])\n",
    "c = np.array([[[1,2,3],[4,5,6]],[[1,2,3],[4,5,6]]])"
   ]
  },
  {
   "cell_type": "code",
   "execution_count": 11,
   "id": "8f7e90a4-f4b4-4c28-bf0f-c7e0d232adaa",
   "metadata": {},
   "outputs": [
    {
     "data": {
      "text/plain": [
       "array([[1, 2, 3],\n",
       "       [4, 5, 6]])"
      ]
     },
     "execution_count": 11,
     "metadata": {},
     "output_type": "execute_result"
    }
   ],
   "source": [
    "a"
   ]
  },
  {
   "cell_type": "code",
   "execution_count": 12,
   "id": "90ea459c-1e4a-4b48-a3fc-27a2ad745df1",
   "metadata": {},
   "outputs": [
    {
     "data": {
      "text/plain": [
       "array([1, 2, 3, 4])"
      ]
     },
     "execution_count": 12,
     "metadata": {},
     "output_type": "execute_result"
    }
   ],
   "source": [
    "b"
   ]
  },
  {
   "cell_type": "code",
   "execution_count": 13,
   "id": "3bda1ef3-ac17-4b2a-b54a-453a7534586c",
   "metadata": {},
   "outputs": [
    {
     "data": {
      "text/plain": [
       "array([[[1, 2, 3],\n",
       "        [4, 5, 6]],\n",
       "\n",
       "       [[1, 2, 3],\n",
       "        [4, 5, 6]]])"
      ]
     },
     "execution_count": 13,
     "metadata": {},
     "output_type": "execute_result"
    }
   ],
   "source": [
    "c"
   ]
  },
  {
   "cell_type": "code",
   "execution_count": 14,
   "id": "63273fa5-2951-4201-ace8-2600c6175dbb",
   "metadata": {},
   "outputs": [
    {
     "data": {
      "text/plain": [
       "(2, 3)"
      ]
     },
     "execution_count": 14,
     "metadata": {},
     "output_type": "execute_result"
    }
   ],
   "source": [
    "a.shape"
   ]
  },
  {
   "cell_type": "code",
   "execution_count": 15,
   "id": "60614f9e-ad87-414c-9ba7-aed3acdf449e",
   "metadata": {},
   "outputs": [
    {
     "data": {
      "text/plain": [
       "(4,)"
      ]
     },
     "execution_count": 15,
     "metadata": {},
     "output_type": "execute_result"
    }
   ],
   "source": [
    "b.shape"
   ]
  },
  {
   "cell_type": "code",
   "execution_count": 16,
   "id": "11091619-0f65-4371-81ac-99adaec182a0",
   "metadata": {},
   "outputs": [
    {
     "data": {
      "text/plain": [
       "(2, 2, 3)"
      ]
     },
     "execution_count": 16,
     "metadata": {},
     "output_type": "execute_result"
    }
   ],
   "source": [
    "c.shape"
   ]
  },
  {
   "cell_type": "markdown",
   "id": "5be107ce-85c2-4629-9d38-82a1e28a0953",
   "metadata": {},
   "source": [
    "### 3.2.3 ndarray的类型"
   ]
  },
  {
   "cell_type": "code",
   "execution_count": 17,
   "id": "53ca2dc6-c7d2-4472-bc7c-a866a2b8a5a9",
   "metadata": {},
   "outputs": [],
   "source": [
    "data = np.array([1.1, 2.2, 3.3])"
   ]
  },
  {
   "cell_type": "code",
   "execution_count": 18,
   "id": "353ebb82-e021-41d9-a046-f14ecaa8477f",
   "metadata": {},
   "outputs": [
    {
     "data": {
      "text/plain": [
       "array([1.1, 2.2, 3.3])"
      ]
     },
     "execution_count": 18,
     "metadata": {},
     "output_type": "execute_result"
    }
   ],
   "source": [
    "data"
   ]
  },
  {
   "cell_type": "code",
   "execution_count": 19,
   "id": "9a8925f7-3445-42c8-9450-1fb0f82835dd",
   "metadata": {},
   "outputs": [
    {
     "data": {
      "text/plain": [
       "dtype('float64')"
      ]
     },
     "execution_count": 19,
     "metadata": {},
     "output_type": "execute_result"
    }
   ],
   "source": [
    "data.dtype"
   ]
  },
  {
   "cell_type": "code",
   "execution_count": 20,
   "id": "ddcc0c99-68d3-4a10-89c1-fe7b34cf4865",
   "metadata": {},
   "outputs": [],
   "source": [
    "# 创建数组的时候指定类型\n",
    "data1 = np.array([1.1, 2.2, 3.3], dtype=\"float32\")"
   ]
  },
  {
   "cell_type": "code",
   "execution_count": 21,
   "id": "5bf01884-75ad-49d2-a5a1-973d1e0a65a2",
   "metadata": {},
   "outputs": [
    {
     "data": {
      "text/plain": [
       "array([1.1, 2.2, 3.3], dtype=float32)"
      ]
     },
     "execution_count": 21,
     "metadata": {},
     "output_type": "execute_result"
    }
   ],
   "source": [
    "data1"
   ]
  },
  {
   "cell_type": "code",
   "execution_count": 22,
   "id": "1faf8ab9-cbe0-4655-afec-864a0f2464a7",
   "metadata": {},
   "outputs": [],
   "source": [
    "data2 = np.array([1.1, 2.2, 3.3], dtype=np.float32)"
   ]
  },
  {
   "cell_type": "code",
   "execution_count": 23,
   "id": "598876bc-ef50-4633-ae5b-840052ec9492",
   "metadata": {},
   "outputs": [
    {
     "data": {
      "text/plain": [
       "array([1.1, 2.2, 3.3], dtype=float32)"
      ]
     },
     "execution_count": 23,
     "metadata": {},
     "output_type": "execute_result"
    }
   ],
   "source": [
    "data2"
   ]
  },
  {
   "cell_type": "markdown",
   "id": "c5c9c872-6812-4fad-97cf-d1db26bf8ee1",
   "metadata": {},
   "source": [
    "### 3.3.1 生成数组的方法"
   ]
  },
  {
   "cell_type": "markdown",
   "id": "5bb67ef0-1124-461d-ad77-247b3804d4ca",
   "metadata": {},
   "source": [
    "- 1 生成0和1的数组"
   ]
  },
  {
   "cell_type": "code",
   "execution_count": 24,
   "id": "53524052-c0e0-428a-95a8-6fb46f2b2b38",
   "metadata": {},
   "outputs": [
    {
     "data": {
      "text/plain": [
       "array([[0., 0., 0., 0.],\n",
       "       [0., 0., 0., 0.],\n",
       "       [0., 0., 0., 0.]], dtype=float32)"
      ]
     },
     "execution_count": 24,
     "metadata": {},
     "output_type": "execute_result"
    }
   ],
   "source": [
    "np.zeros(shape=(3, 4), dtype=\"float32\")"
   ]
  },
  {
   "cell_type": "code",
   "execution_count": 25,
   "id": "726086d4-1aaf-454d-82a4-cc7611cd14ba",
   "metadata": {},
   "outputs": [
    {
     "data": {
      "text/plain": [
       "array([[1, 1, 1],\n",
       "       [1, 1, 1]], dtype=int32)"
      ]
     },
     "execution_count": 25,
     "metadata": {},
     "output_type": "execute_result"
    }
   ],
   "source": [
    "np.ones(shape=[2, 3], dtype=np.int32)"
   ]
  },
  {
   "cell_type": "markdown",
   "id": "98a798b5-213e-4977-9b7f-7c53fcc76c5a",
   "metadata": {},
   "source": [
    "- 2 从现有数组生成"
   ]
  },
  {
   "cell_type": "code",
   "execution_count": 26,
   "id": "9da40524-af2c-40cc-b353-cca1c7780d00",
   "metadata": {},
   "outputs": [],
   "source": [
    "# np.array()\n",
    "data1 = np.array(score)"
   ]
  },
  {
   "cell_type": "code",
   "execution_count": 27,
   "id": "160fd030-9fe5-4512-978a-873cfa1e2718",
   "metadata": {},
   "outputs": [
    {
     "data": {
      "text/plain": [
       "array([[80, 89, 86, 67, 79],\n",
       "       [78, 97, 89, 67, 81],\n",
       "       [90, 94, 78, 67, 74],\n",
       "       [91, 91, 90, 67, 69],\n",
       "       [76, 87, 75, 67, 86],\n",
       "       [70, 79, 84, 67, 84],\n",
       "       [94, 92, 93, 67, 64],\n",
       "       [86, 85, 83, 67, 80]])"
      ]
     },
     "execution_count": 27,
     "metadata": {},
     "output_type": "execute_result"
    }
   ],
   "source": [
    "data1"
   ]
  },
  {
   "cell_type": "code",
   "execution_count": 28,
   "id": "bfe0549b-cabc-4394-ae2b-c5532e4389e2",
   "metadata": {},
   "outputs": [],
   "source": [
    "# np.asarray()\n",
    "data2 = np.asarray(score)"
   ]
  },
  {
   "cell_type": "code",
   "execution_count": 29,
   "id": "ac1cf852-0a1d-4c13-bf69-3a3c4532fe84",
   "metadata": {},
   "outputs": [
    {
     "data": {
      "text/plain": [
       "array([[80, 89, 86, 67, 79],\n",
       "       [78, 97, 89, 67, 81],\n",
       "       [90, 94, 78, 67, 74],\n",
       "       [91, 91, 90, 67, 69],\n",
       "       [76, 87, 75, 67, 86],\n",
       "       [70, 79, 84, 67, 84],\n",
       "       [94, 92, 93, 67, 64],\n",
       "       [86, 85, 83, 67, 80]])"
      ]
     },
     "execution_count": 29,
     "metadata": {},
     "output_type": "execute_result"
    }
   ],
   "source": [
    "data2"
   ]
  },
  {
   "cell_type": "code",
   "execution_count": 30,
   "id": "199358a2-8bb5-499e-930c-6657680aebf6",
   "metadata": {},
   "outputs": [],
   "source": [
    "# np.copy()\n",
    "data3 = np.copy(score)"
   ]
  },
  {
   "cell_type": "code",
   "execution_count": 31,
   "id": "4f7f389a-4e22-4498-9885-5d788cfe1a52",
   "metadata": {},
   "outputs": [
    {
     "data": {
      "text/plain": [
       "array([[80, 89, 86, 67, 79],\n",
       "       [78, 97, 89, 67, 81],\n",
       "       [90, 94, 78, 67, 74],\n",
       "       [91, 91, 90, 67, 69],\n",
       "       [76, 87, 75, 67, 86],\n",
       "       [70, 79, 84, 67, 84],\n",
       "       [94, 92, 93, 67, 64],\n",
       "       [86, 85, 83, 67, 80]])"
      ]
     },
     "execution_count": 31,
     "metadata": {},
     "output_type": "execute_result"
    }
   ],
   "source": [
    "data3"
   ]
  },
  {
   "cell_type": "code",
   "execution_count": 32,
   "id": "038084e8-5b25-4bf4-bf9f-92ea37e4990d",
   "metadata": {},
   "outputs": [
    {
     "data": {
      "text/plain": [
       "array([[80, 89, 86, 67, 79],\n",
       "       [78, 97, 89, 67, 81],\n",
       "       [90, 94, 78, 67, 74],\n",
       "       [91, 91, 90, 67, 69],\n",
       "       [76, 87, 75, 67, 86],\n",
       "       [70, 79, 84, 67, 84],\n",
       "       [94, 92, 93, 67, 64],\n",
       "       [86, 85, 83, 67, 80]])"
      ]
     },
     "execution_count": 32,
     "metadata": {},
     "output_type": "execute_result"
    }
   ],
   "source": [
    "score"
   ]
  },
  {
   "cell_type": "code",
   "execution_count": 33,
   "id": "e5c0f6d5-f5c6-4475-99d1-e4394c30fdee",
   "metadata": {},
   "outputs": [],
   "source": [
    "score[3, 1] = 10000"
   ]
  },
  {
   "cell_type": "code",
   "execution_count": 34,
   "id": "aecc3df9-99d1-4466-bd46-1c5f999ce3de",
   "metadata": {},
   "outputs": [
    {
     "data": {
      "text/plain": [
       "array([[   80,    89,    86,    67,    79],\n",
       "       [   78,    97,    89,    67,    81],\n",
       "       [   90,    94,    78,    67,    74],\n",
       "       [   91, 10000,    90,    67,    69],\n",
       "       [   76,    87,    75,    67,    86],\n",
       "       [   70,    79,    84,    67,    84],\n",
       "       [   94,    92,    93,    67,    64],\n",
       "       [   86,    85,    83,    67,    80]])"
      ]
     },
     "execution_count": 34,
     "metadata": {},
     "output_type": "execute_result"
    }
   ],
   "source": [
    "score"
   ]
  },
  {
   "cell_type": "code",
   "execution_count": 35,
   "id": "079e9b88-7830-4939-90ab-b4dcac08e27f",
   "metadata": {},
   "outputs": [
    {
     "data": {
      "text/plain": [
       "array([[80, 89, 86, 67, 79],\n",
       "       [78, 97, 89, 67, 81],\n",
       "       [90, 94, 78, 67, 74],\n",
       "       [91, 91, 90, 67, 69],\n",
       "       [76, 87, 75, 67, 86],\n",
       "       [70, 79, 84, 67, 84],\n",
       "       [94, 92, 93, 67, 64],\n",
       "       [86, 85, 83, 67, 80]])"
      ]
     },
     "execution_count": 35,
     "metadata": {},
     "output_type": "execute_result"
    }
   ],
   "source": [
    "data1"
   ]
  },
  {
   "cell_type": "code",
   "execution_count": 36,
   "id": "6dd50194-05b0-48be-87d2-538139fed220",
   "metadata": {},
   "outputs": [
    {
     "data": {
      "text/plain": [
       "array([[   80,    89,    86,    67,    79],\n",
       "       [   78,    97,    89,    67,    81],\n",
       "       [   90,    94,    78,    67,    74],\n",
       "       [   91, 10000,    90,    67,    69],\n",
       "       [   76,    87,    75,    67,    86],\n",
       "       [   70,    79,    84,    67,    84],\n",
       "       [   94,    92,    93,    67,    64],\n",
       "       [   86,    85,    83,    67,    80]])"
      ]
     },
     "execution_count": 36,
     "metadata": {},
     "output_type": "execute_result"
    }
   ],
   "source": [
    "data2"
   ]
  },
  {
   "cell_type": "code",
   "execution_count": 37,
   "id": "b3ece8c9-0f1c-44c0-a26c-43c9c4fa5a3c",
   "metadata": {},
   "outputs": [
    {
     "data": {
      "text/plain": [
       "array([[80, 89, 86, 67, 79],\n",
       "       [78, 97, 89, 67, 81],\n",
       "       [90, 94, 78, 67, 74],\n",
       "       [91, 91, 90, 67, 69],\n",
       "       [76, 87, 75, 67, 86],\n",
       "       [70, 79, 84, 67, 84],\n",
       "       [94, 92, 93, 67, 64],\n",
       "       [86, 85, 83, 67, 80]])"
      ]
     },
     "execution_count": 37,
     "metadata": {},
     "output_type": "execute_result"
    }
   ],
   "source": [
    "data3"
   ]
  },
  {
   "cell_type": "markdown",
   "id": "d4ba0ca2-8d11-49fa-be45-bbc905155cd1",
   "metadata": {},
   "source": [
    "- 3 生成固定范围的数组"
   ]
  },
  {
   "cell_type": "code",
   "execution_count": 38,
   "id": "e554b07f-e4bc-4555-91ad-a44d214b89e2",
   "metadata": {},
   "outputs": [
    {
     "data": {
      "text/plain": [
       "array([ 0. ,  2.5,  5. ,  7.5, 10. ])"
      ]
     },
     "execution_count": 38,
     "metadata": {},
     "output_type": "execute_result"
    }
   ],
   "source": [
    "np.linspace(0, 10, 5)"
   ]
  },
  {
   "cell_type": "code",
   "execution_count": 39,
   "id": "0e139f30-b1da-4ad8-ac79-c563050e25b6",
   "metadata": {},
   "outputs": [
    {
     "data": {
      "text/plain": [
       "array([ 0,  5, 10])"
      ]
     },
     "execution_count": 39,
     "metadata": {},
     "output_type": "execute_result"
    }
   ],
   "source": [
    "np.arange(0, 11, 5)"
   ]
  },
  {
   "cell_type": "markdown",
   "id": "b2047cf8-95d6-4edc-ab0a-39805b5e940e",
   "metadata": {},
   "source": [
    "- 4 生成随机数组"
   ]
  },
  {
   "cell_type": "code",
   "execution_count": 40,
   "id": "52777c12-8d4a-4537-9228-d739e7d792d2",
   "metadata": {},
   "outputs": [],
   "source": [
    "data1 = np.random.uniform(low=-1, high=1, size=1000000)"
   ]
  },
  {
   "cell_type": "code",
   "execution_count": 41,
   "id": "763928b6-51e0-4f77-b6a9-2ed26f7cd1ae",
   "metadata": {},
   "outputs": [
    {
     "data": {
      "text/plain": [
       "array([-0.47621224, -0.70157022, -0.88397531, ..., -0.21011969,\n",
       "       -0.69616778, -0.21383682], shape=(1000000,))"
      ]
     },
     "execution_count": 41,
     "metadata": {},
     "output_type": "execute_result"
    }
   ],
   "source": [
    "data1"
   ]
  },
  {
   "cell_type": "code",
   "execution_count": 42,
   "id": "f31afada-d2df-480e-ba47-337ca2f3e766",
   "metadata": {},
   "outputs": [],
   "source": [
    "import matplotlib.pyplot as plt"
   ]
  },
  {
   "cell_type": "code",
   "execution_count": 43,
   "id": "f4c1048c-6c87-4942-a715-e60b03d99adb",
   "metadata": {},
   "outputs": [
    {
     "data": {
      "image/png": "[encoded data removed]",
      "text/plain": [
       "<Figure size 1600x640 with 1 Axes>"
      ]
     },
     "metadata": {},
     "output_type": "display_data"
    }
   ],
   "source": [
    "# 1、创建画布\n",
    "plt.figure(figsize=(20, 8), dpi=80)\n",
    "\n",
    "# 2、绘制直方图\n",
    "plt.hist(data1, 1000)\n",
    "\n",
    "# 3、显示图像\n",
    "plt.show()"
   ]
  },
  {
   "cell_type": "code",
   "execution_count": 44,
   "id": "29388fa4-40c6-40ad-a311-a81409cb728a",
   "metadata": {},
   "outputs": [],
   "source": [
    "# 正态分布\n",
    "data2 = np.random.normal(loc=1.75, scale=0.1, size=1000000)"
   ]
  },
  {
   "cell_type": "code",
   "execution_count": 45,
   "id": "da8fcde9-7eb7-4e2c-b56a-140015144a21",
   "metadata": {},
   "outputs": [
    {
     "data": {
      "text/plain": [
       "array([1.71289426, 1.70928623, 1.88097838, ..., 1.73382838, 1.66538452,\n",
       "       1.66866312], shape=(1000000,))"
      ]
     },
     "execution_count": 45,
     "metadata": {},
     "output_type": "execute_result"
    }
   ],
   "source": [
    "data2"
   ]
  },
  {
   "cell_type": "code",
   "execution_count": 46,
   "id": "ce5d3ea4-b9e4-4ea4-a30b-b6640d46482c",
   "metadata": {},
   "outputs": [
    {
     "data": {
      "image/png": "[encoded data removed]",
      "text/plain": [
       "<Figure size 1600x640 with 1 Axes>"
      ]
     },
     "metadata": {},
     "output_type": "display_data"
    }
   ],
   "source": [
    "# 1、创建画布\n",
    "plt.figure(figsize=(20, 8), dpi=80)\n",
    "\n",
    "# 2、绘制直方图\n",
    "plt.hist(data2, 1000)\n",
    "\n",
    "# 3、显示图像\n",
    "plt.show()"
   ]
  },
  {
   "cell_type": "markdown",
   "id": "899b841f-4a10-4e2e-a934-1c056107be0f",
   "metadata": {},
   "source": [
    "### 3.3.2 数组的索引、切片"
   ]
  },
  {
   "cell_type": "markdown",
   "id": "9e4ab571-fd12-4314-a1e1-bf80e9073284",
   "metadata": {},
   "source": [
    "- 案例：随机生成8只股票2周的交易日涨幅数据"
   ]
  },
  {
   "cell_type": "code",
   "execution_count": 47,
   "id": "99bf1bde-61c4-496e-91a1-818be6500eb3",
   "metadata": {},
   "outputs": [],
   "source": [
    "stock_change = np.random.normal(loc=0, scale=1, size=(8, 10))"
   ]
  },
  {
   "cell_type": "code",
   "execution_count": 48,
   "id": "d72c167b-8006-48bc-9f08-a68b22d43b43",
   "metadata": {},
   "outputs": [
    {
     "data": {
      "text/plain": [
       "array([[-8.66882827e-01, -1.27084635e+00,  2.29404898e-01,\n",
       "        -1.16935845e+00,  8.11770088e-01, -1.08781644e+00,\n",
       "         2.90135492e-03, -9.87549236e-01,  2.15737264e-02,\n",
       "         8.80644888e-02],\n",
       "       [ 2.53008398e-01,  1.12947636e+00,  6.26361850e-01,\n",
       "         4.49892054e-01, -1.02887363e+00,  1.97874741e+00,\n",
       "        -1.01132987e+00, -7.97702938e-01, -2.58438383e+00,\n",
       "         8.12399076e-01],\n",
       "       [ 1.64939423e+00,  1.67457798e-01,  2.57275303e-01,\n",
       "        -1.08661448e+00, -5.13830661e-01, -1.10025470e+00,\n",
       "         9.46097174e-01, -6.48212048e-01,  9.44587993e-01,\n",
       "         1.02553070e+00],\n",
       "       [-2.10475639e-02, -4.21014780e-01, -8.03275857e-01,\n",
       "        -7.18058630e-01,  8.27060150e-01, -5.79411619e-01,\n",
       "        -2.16284508e-01, -2.48712146e+00,  1.12026706e+00,\n",
       "        -5.12100612e-01],\n",
       "       [ 1.85494504e+00,  5.85431925e-01,  1.13620178e+00,\n",
       "         6.61375150e-01,  2.02304336e-01, -6.30872418e-01,\n",
       "        -8.17550782e-01,  2.26338024e-01, -1.58105734e+00,\n",
       "        -1.12209741e+00],\n",
       "       [-3.80921695e-01,  3.33714680e-01,  1.02022404e+00,\n",
       "         1.63688807e+00, -1.12385746e+00, -1.10020285e+00,\n",
       "        -3.93156208e-01, -4.27905787e-04,  5.28874033e-01,\n",
       "         3.98658852e-01],\n",
       "       [ 7.13397869e-01,  3.39811558e-01,  1.57365941e+00,\n",
       "         5.07484421e-01,  2.26794570e-01,  1.57684019e-01,\n",
       "         7.73198445e-01,  4.55396271e-01,  1.00539287e+00,\n",
       "         2.12530093e+00],\n",
       "       [-1.05417501e-01, -2.07011722e-01,  1.03236029e+00,\n",
       "        -1.47582958e+00,  4.29817958e-01,  2.25368383e-01,\n",
       "        -3.57099252e-01, -5.23339579e-01, -9.55409972e-01,\n",
       "         6.19433229e-01]])"
      ]
     },
     "execution_count": 48,
     "metadata": {},
     "output_type": "execute_result"
    }
   ],
   "source": [
    "stock_change"
   ]
  },
  {
   "cell_type": "code",
   "execution_count": 49,
   "id": "c5f571fe-1534-44fb-b02a-ad2dd16f578b",
   "metadata": {},
   "outputs": [
    {
     "data": {
      "text/plain": [
       "array([-0.86688283, -1.27084635,  0.2294049 ])"
      ]
     },
     "execution_count": 49,
     "metadata": {},
     "output_type": "execute_result"
    }
   ],
   "source": [
    "# 获取第一个股票的前3个交易日的涨跌幅数据\n",
    "stock_change[0, :3]"
   ]
  },
  {
   "cell_type": "code",
   "execution_count": 50,
   "id": "1923e506-6730-4117-9c16-8c60ffdc8cc5",
   "metadata": {},
   "outputs": [],
   "source": [
    "a1 = np.array([ [[1,2,3],[4,5,6]], [[12,3,34],[5,6,7]]])"
   ]
  },
  {
   "cell_type": "code",
   "execution_count": 51,
   "id": "48b05297-965d-44a3-8641-031a5b3b5943",
   "metadata": {},
   "outputs": [
    {
     "data": {
      "text/plain": [
       "array([[[ 1,  2,  3],\n",
       "        [ 4,  5,  6]],\n",
       "\n",
       "       [[12,  3, 34],\n",
       "        [ 5,  6,  7]]])"
      ]
     },
     "execution_count": 51,
     "metadata": {},
     "output_type": "execute_result"
    }
   ],
   "source": [
    "a1"
   ]
  },
  {
   "cell_type": "code",
   "execution_count": 52,
   "id": "8b766a23-c3c1-4140-94aa-456c3fcdb5fe",
   "metadata": {},
   "outputs": [
    {
     "data": {
      "text/plain": [
       "(2, 2, 3)"
      ]
     },
     "execution_count": 52,
     "metadata": {},
     "output_type": "execute_result"
    }
   ],
   "source": [
    "a1.shape"
   ]
  },
  {
   "cell_type": "code",
   "execution_count": 53,
   "id": "d5193430-0ddc-489c-8746-c9f4c5931de1",
   "metadata": {},
   "outputs": [],
   "source": [
    "a1[1, 0, 2] = 100000"
   ]
  },
  {
   "cell_type": "code",
   "execution_count": 54,
   "id": "8e7caec5-ae1c-4c7a-8809-ef86e8cbd321",
   "metadata": {},
   "outputs": [
    {
     "data": {
      "text/plain": [
       "array([[[     1,      2,      3],\n",
       "        [     4,      5,      6]],\n",
       "\n",
       "       [[    12,      3, 100000],\n",
       "        [     5,      6,      7]]])"
      ]
     },
     "execution_count": 54,
     "metadata": {},
     "output_type": "execute_result"
    }
   ],
   "source": [
    "a1"
   ]
  },
  {
   "cell_type": "markdown",
   "id": "b032c5b6-9150-46f0-a1da-a9c887adbe20",
   "metadata": {},
   "source": [
    "### 3.3.3 形状修改"
   ]
  },
  {
   "cell_type": "code",
   "execution_count": 55,
   "id": "fc33abfc-932c-479e-9941-b25c39bef036",
   "metadata": {},
   "outputs": [
    {
     "data": {
      "text/plain": [
       "array([[-8.66882827e-01, -1.27084635e+00,  2.29404898e-01,\n",
       "        -1.16935845e+00,  8.11770088e-01, -1.08781644e+00,\n",
       "         2.90135492e-03, -9.87549236e-01,  2.15737264e-02,\n",
       "         8.80644888e-02],\n",
       "       [ 2.53008398e-01,  1.12947636e+00,  6.26361850e-01,\n",
       "         4.49892054e-01, -1.02887363e+00,  1.97874741e+00,\n",
       "        -1.01132987e+00, -7.97702938e-01, -2.58438383e+00,\n",
       "         8.12399076e-01],\n",
       "       [ 1.64939423e+00,  1.67457798e-01,  2.57275303e-01,\n",
       "        -1.08661448e+00, -5.13830661e-01, -1.10025470e+00,\n",
       "         9.46097174e-01, -6.48212048e-01,  9.44587993e-01,\n",
       "         1.02553070e+00],\n",
       "       [-2.10475639e-02, -4.21014780e-01, -8.03275857e-01,\n",
       "        -7.18058630e-01,  8.27060150e-01, -5.79411619e-01,\n",
       "        -2.16284508e-01, -2.48712146e+00,  1.12026706e+00,\n",
       "        -5.12100612e-01],\n",
       "       [ 1.85494504e+00,  5.85431925e-01,  1.13620178e+00,\n",
       "         6.61375150e-01,  2.02304336e-01, -6.30872418e-01,\n",
       "        -8.17550782e-01,  2.26338024e-01, -1.58105734e+00,\n",
       "        -1.12209741e+00],\n",
       "       [-3.80921695e-01,  3.33714680e-01,  1.02022404e+00,\n",
       "         1.63688807e+00, -1.12385746e+00, -1.10020285e+00,\n",
       "        -3.93156208e-01, -4.27905787e-04,  5.28874033e-01,\n",
       "         3.98658852e-01],\n",
       "       [ 7.13397869e-01,  3.39811558e-01,  1.57365941e+00,\n",
       "         5.07484421e-01,  2.26794570e-01,  1.57684019e-01,\n",
       "         7.73198445e-01,  4.55396271e-01,  1.00539287e+00,\n",
       "         2.12530093e+00],\n",
       "       [-1.05417501e-01, -2.07011722e-01,  1.03236029e+00,\n",
       "        -1.47582958e+00,  4.29817958e-01,  2.25368383e-01,\n",
       "        -3.57099252e-01, -5.23339579e-01, -9.55409972e-01,\n",
       "         6.19433229e-01]])"
      ]
     },
     "execution_count": 55,
     "metadata": {},
     "output_type": "execute_result"
    }
   ],
   "source": [
    "# 需求：让刚才的股票行、日期列反过来，变成日期行，股票列\n",
    "stock_change"
   ]
  },
  {
   "cell_type": "code",
   "execution_count": 56,
   "id": "5358413c-4340-422f-a6dc-38ded465f788",
   "metadata": {},
   "outputs": [
    {
     "data": {
      "text/plain": [
       "array([[-8.66882827e-01, -1.27084635e+00,  2.29404898e-01,\n",
       "        -1.16935845e+00,  8.11770088e-01, -1.08781644e+00,\n",
       "         2.90135492e-03, -9.87549236e-01],\n",
       "       [ 2.15737264e-02,  8.80644888e-02,  2.53008398e-01,\n",
       "         1.12947636e+00,  6.26361850e-01,  4.49892054e-01,\n",
       "        -1.02887363e+00,  1.97874741e+00],\n",
       "       [-1.01132987e+00, -7.97702938e-01, -2.58438383e+00,\n",
       "         8.12399076e-01,  1.64939423e+00,  1.67457798e-01,\n",
       "         2.57275303e-01, -1.08661448e+00],\n",
       "       [-5.13830661e-01, -1.10025470e+00,  9.46097174e-01,\n",
       "        -6.48212048e-01,  9.44587993e-01,  1.02553070e+00,\n",
       "        -2.10475639e-02, -4.21014780e-01],\n",
       "       [-8.03275857e-01, -7.18058630e-01,  8.27060150e-01,\n",
       "        -5.79411619e-01, -2.16284508e-01, -2.48712146e+00,\n",
       "         1.12026706e+00, -5.12100612e-01],\n",
       "       [ 1.85494504e+00,  5.85431925e-01,  1.13620178e+00,\n",
       "         6.61375150e-01,  2.02304336e-01, -6.30872418e-01,\n",
       "        -8.17550782e-01,  2.26338024e-01],\n",
       "       [-1.58105734e+00, -1.12209741e+00, -3.80921695e-01,\n",
       "         3.33714680e-01,  1.02022404e+00,  1.63688807e+00,\n",
       "        -1.12385746e+00, -1.10020285e+00],\n",
       "       [-3.93156208e-01, -4.27905787e-04,  5.28874033e-01,\n",
       "         3.98658852e-01,  7.13397869e-01,  3.39811558e-01,\n",
       "         1.57365941e+00,  5.07484421e-01],\n",
       "       [ 2.26794570e-01,  1.57684019e-01,  7.73198445e-01,\n",
       "         4.55396271e-01,  1.00539287e+00,  2.12530093e+00,\n",
       "        -1.05417501e-01, -2.07011722e-01],\n",
       "       [ 1.03236029e+00, -1.47582958e+00,  4.29817958e-01,\n",
       "         2.25368383e-01, -3.57099252e-01, -5.23339579e-01,\n",
       "        -9.55409972e-01,  6.19433229e-01]])"
      ]
     },
     "execution_count": 56,
     "metadata": {},
     "output_type": "execute_result"
    }
   ],
   "source": [
    "stock_change.reshape((10, 8))"
   ]
  },
  {
   "cell_type": "code",
   "execution_count": 57,
   "id": "988f83b6-ff6e-453f-97c9-e1bd58273f14",
   "metadata": {},
   "outputs": [
    {
     "data": {
      "text/plain": [
       "array([[-8.66882827e-01, -1.27084635e+00,  2.29404898e-01,\n",
       "        -1.16935845e+00,  8.11770088e-01, -1.08781644e+00,\n",
       "         2.90135492e-03, -9.87549236e-01,  2.15737264e-02,\n",
       "         8.80644888e-02],\n",
       "       [ 2.53008398e-01,  1.12947636e+00,  6.26361850e-01,\n",
       "         4.49892054e-01, -1.02887363e+00,  1.97874741e+00,\n",
       "        -1.01132987e+00, -7.97702938e-01, -2.58438383e+00,\n",
       "         8.12399076e-01],\n",
       "       [ 1.64939423e+00,  1.67457798e-01,  2.57275303e-01,\n",
       "        -1.08661448e+00, -5.13830661e-01, -1.10025470e+00,\n",
       "         9.46097174e-01, -6.48212048e-01,  9.44587993e-01,\n",
       "         1.02553070e+00],\n",
       "       [-2.10475639e-02, -4.21014780e-01, -8.03275857e-01,\n",
       "        -7.18058630e-01,  8.27060150e-01, -5.79411619e-01,\n",
       "        -2.16284508e-01, -2.48712146e+00,  1.12026706e+00,\n",
       "        -5.12100612e-01],\n",
       "       [ 1.85494504e+00,  5.85431925e-01,  1.13620178e+00,\n",
       "         6.61375150e-01,  2.02304336e-01, -6.30872418e-01,\n",
       "        -8.17550782e-01,  2.26338024e-01, -1.58105734e+00,\n",
       "        -1.12209741e+00],\n",
       "       [-3.80921695e-01,  3.33714680e-01,  1.02022404e+00,\n",
       "         1.63688807e+00, -1.12385746e+00, -1.10020285e+00,\n",
       "        -3.93156208e-01, -4.27905787e-04,  5.28874033e-01,\n",
       "         3.98658852e-01],\n",
       "       [ 7.13397869e-01,  3.39811558e-01,  1.57365941e+00,\n",
       "         5.07484421e-01,  2.26794570e-01,  1.57684019e-01,\n",
       "         7.73198445e-01,  4.55396271e-01,  1.00539287e+00,\n",
       "         2.12530093e+00],\n",
       "       [-1.05417501e-01, -2.07011722e-01,  1.03236029e+00,\n",
       "        -1.47582958e+00,  4.29817958e-01,  2.25368383e-01,\n",
       "        -3.57099252e-01, -5.23339579e-01, -9.55409972e-01,\n",
       "         6.19433229e-01]])"
      ]
     },
     "execution_count": 57,
     "metadata": {},
     "output_type": "execute_result"
    }
   ],
   "source": [
    "stock_change"
   ]
  },
  {
   "cell_type": "code",
   "execution_count": 58,
   "id": "646ef4b6-a39b-4e5c-ae91-3d3fe05fdd65",
   "metadata": {},
   "outputs": [],
   "source": [
    "stock_change.resize((10, 8))"
   ]
  },
  {
   "cell_type": "code",
   "execution_count": 59,
   "id": "102ec2b3-eb33-4217-9a64-028b15ecd593",
   "metadata": {},
   "outputs": [
    {
     "data": {
      "text/plain": [
       "(10, 8)"
      ]
     },
     "execution_count": 59,
     "metadata": {},
     "output_type": "execute_result"
    }
   ],
   "source": [
    "stock_change.shape"
   ]
  },
  {
   "cell_type": "code",
   "execution_count": 60,
   "id": "ee609eb0-5504-430e-800b-610ed39239b9",
   "metadata": {},
   "outputs": [],
   "source": [
    "stock_change.resize((8, 10))"
   ]
  },
  {
   "cell_type": "code",
   "execution_count": 61,
   "id": "23d28240-7c21-4815-8c38-b20662f4c295",
   "metadata": {},
   "outputs": [
    {
     "data": {
      "text/plain": [
       "array([[-8.66882827e-01, -1.27084635e+00,  2.29404898e-01,\n",
       "        -1.16935845e+00,  8.11770088e-01, -1.08781644e+00,\n",
       "         2.90135492e-03, -9.87549236e-01,  2.15737264e-02,\n",
       "         8.80644888e-02],\n",
       "       [ 2.53008398e-01,  1.12947636e+00,  6.26361850e-01,\n",
       "         4.49892054e-01, -1.02887363e+00,  1.97874741e+00,\n",
       "        -1.01132987e+00, -7.97702938e-01, -2.58438383e+00,\n",
       "         8.12399076e-01],\n",
       "       [ 1.64939423e+00,  1.67457798e-01,  2.57275303e-01,\n",
       "        -1.08661448e+00, -5.13830661e-01, -1.10025470e+00,\n",
       "         9.46097174e-01, -6.48212048e-01,  9.44587993e-01,\n",
       "         1.02553070e+00],\n",
       "       [-2.10475639e-02, -4.21014780e-01, -8.03275857e-01,\n",
       "        -7.18058630e-01,  8.27060150e-01, -5.79411619e-01,\n",
       "        -2.16284508e-01, -2.48712146e+00,  1.12026706e+00,\n",
       "        -5.12100612e-01],\n",
       "       [ 1.85494504e+00,  5.85431925e-01,  1.13620178e+00,\n",
       "         6.61375150e-01,  2.02304336e-01, -6.30872418e-01,\n",
       "        -8.17550782e-01,  2.26338024e-01, -1.58105734e+00,\n",
       "        -1.12209741e+00],\n",
       "       [-3.80921695e-01,  3.33714680e-01,  1.02022404e+00,\n",
       "         1.63688807e+00, -1.12385746e+00, -1.10020285e+00,\n",
       "        -3.93156208e-01, -4.27905787e-04,  5.28874033e-01,\n",
       "         3.98658852e-01],\n",
       "       [ 7.13397869e-01,  3.39811558e-01,  1.57365941e+00,\n",
       "         5.07484421e-01,  2.26794570e-01,  1.57684019e-01,\n",
       "         7.73198445e-01,  4.55396271e-01,  1.00539287e+00,\n",
       "         2.12530093e+00],\n",
       "       [-1.05417501e-01, -2.07011722e-01,  1.03236029e+00,\n",
       "        -1.47582958e+00,  4.29817958e-01,  2.25368383e-01,\n",
       "        -3.57099252e-01, -5.23339579e-01, -9.55409972e-01,\n",
       "         6.19433229e-01]])"
      ]
     },
     "execution_count": 61,
     "metadata": {},
     "output_type": "execute_result"
    }
   ],
   "source": [
    "stock_change"
   ]
  },
  {
   "cell_type": "code",
   "execution_count": 62,
   "id": "040396a2-a254-4865-9370-33fb5388ed22",
   "metadata": {},
   "outputs": [
    {
     "data": {
      "text/plain": [
       "array([[-8.66882827e-01,  2.53008398e-01,  1.64939423e+00,\n",
       "        -2.10475639e-02,  1.85494504e+00, -3.80921695e-01,\n",
       "         7.13397869e-01, -1.05417501e-01],\n",
       "       [-1.27084635e+00,  1.12947636e+00,  1.67457798e-01,\n",
       "        -4.21014780e-01,  5.85431925e-01,  3.33714680e-01,\n",
       "         3.39811558e-01, -2.07011722e-01],\n",
       "       [ 2.29404898e-01,  6.26361850e-01,  2.57275303e-01,\n",
       "        -8.03275857e-01,  1.13620178e+00,  1.02022404e+00,\n",
       "         1.57365941e+00,  1.03236029e+00],\n",
       "       [-1.16935845e+00,  4.49892054e-01, -1.08661448e+00,\n",
       "        -7.18058630e-01,  6.61375150e-01,  1.63688807e+00,\n",
       "         5.07484421e-01, -1.47582958e+00],\n",
       "       [ 8.11770088e-01, -1.02887363e+00, -5.13830661e-01,\n",
       "         8.27060150e-01,  2.02304336e-01, -1.12385746e+00,\n",
       "         2.26794570e-01,  4.29817958e-01],\n",
       "       [-1.08781644e+00,  1.97874741e+00, -1.10025470e+00,\n",
       "        -5.79411619e-01, -6.30872418e-01, -1.10020285e+00,\n",
       "         1.57684019e-01,  2.25368383e-01],\n",
       "       [ 2.90135492e-03, -1.01132987e+00,  9.46097174e-01,\n",
       "        -2.16284508e-01, -8.17550782e-01, -3.93156208e-01,\n",
       "         7.73198445e-01, -3.57099252e-01],\n",
       "       [-9.87549236e-01, -7.97702938e-01, -6.48212048e-01,\n",
       "        -2.48712146e+00,  2.26338024e-01, -4.27905787e-04,\n",
       "         4.55396271e-01, -5.23339579e-01],\n",
       "       [ 2.15737264e-02, -2.58438383e+00,  9.44587993e-01,\n",
       "         1.12026706e+00, -1.58105734e+00,  5.28874033e-01,\n",
       "         1.00539287e+00, -9.55409972e-01],\n",
       "       [ 8.80644888e-02,  8.12399076e-01,  1.02553070e+00,\n",
       "        -5.12100612e-01, -1.12209741e+00,  3.98658852e-01,\n",
       "         2.12530093e+00,  6.19433229e-01]])"
      ]
     },
     "execution_count": 62,
     "metadata": {},
     "output_type": "execute_result"
    }
   ],
   "source": [
    "stock_change.T"
   ]
  },
  {
   "cell_type": "code",
   "execution_count": 63,
   "id": "08c94d28-aad9-49b7-9780-0dda6914aebe",
   "metadata": {},
   "outputs": [
    {
     "data": {
      "text/plain": [
       "array([[-8.66882827e-01, -1.27084635e+00,  2.29404898e-01,\n",
       "        -1.16935845e+00,  8.11770088e-01, -1.08781644e+00,\n",
       "         2.90135492e-03, -9.87549236e-01,  2.15737264e-02,\n",
       "         8.80644888e-02],\n",
       "       [ 2.53008398e-01,  1.12947636e+00,  6.26361850e-01,\n",
       "         4.49892054e-01, -1.02887363e+00,  1.97874741e+00,\n",
       "        -1.01132987e+00, -7.97702938e-01, -2.58438383e+00,\n",
       "         8.12399076e-01],\n",
       "       [ 1.64939423e+00,  1.67457798e-01,  2.57275303e-01,\n",
       "        -1.08661448e+00, -5.13830661e-01, -1.10025470e+00,\n",
       "         9.46097174e-01, -6.48212048e-01,  9.44587993e-01,\n",
       "         1.02553070e+00],\n",
       "       [-2.10475639e-02, -4.21014780e-01, -8.03275857e-01,\n",
       "        -7.18058630e-01,  8.27060150e-01, -5.79411619e-01,\n",
       "        -2.16284508e-01, -2.48712146e+00,  1.12026706e+00,\n",
       "        -5.12100612e-01],\n",
       "       [ 1.85494504e+00,  5.85431925e-01,  1.13620178e+00,\n",
       "         6.61375150e-01,  2.02304336e-01, -6.30872418e-01,\n",
       "        -8.17550782e-01,  2.26338024e-01, -1.58105734e+00,\n",
       "        -1.12209741e+00],\n",
       "       [-3.80921695e-01,  3.33714680e-01,  1.02022404e+00,\n",
       "         1.63688807e+00, -1.12385746e+00, -1.10020285e+00,\n",
       "        -3.93156208e-01, -4.27905787e-04,  5.28874033e-01,\n",
       "         3.98658852e-01],\n",
       "       [ 7.13397869e-01,  3.39811558e-01,  1.57365941e+00,\n",
       "         5.07484421e-01,  2.26794570e-01,  1.57684019e-01,\n",
       "         7.73198445e-01,  4.55396271e-01,  1.00539287e+00,\n",
       "         2.12530093e+00],\n",
       "       [-1.05417501e-01, -2.07011722e-01,  1.03236029e+00,\n",
       "        -1.47582958e+00,  4.29817958e-01,  2.25368383e-01,\n",
       "        -3.57099252e-01, -5.23339579e-01, -9.55409972e-01,\n",
       "         6.19433229e-01]])"
      ]
     },
     "execution_count": 63,
     "metadata": {},
     "output_type": "execute_result"
    }
   ],
   "source": [
    "stock_change"
   ]
  },
  {
   "cell_type": "markdown",
   "id": "6fad4e4a-932c-46ca-9c44-652c615e3352",
   "metadata": {},
   "source": [
    "### 3.3.4 类型修改"
   ]
  },
  {
   "cell_type": "code",
   "execution_count": 64,
   "id": "30c2ed60-e81b-48cd-9988-8e3ded1595dd",
   "metadata": {},
   "outputs": [
    {
     "data": {
      "text/plain": [
       "array([[ 0, -1,  0, -1,  0, -1,  0,  0,  0,  0],\n",
       "       [ 0,  1,  0,  0, -1,  1, -1,  0, -2,  0],\n",
       "       [ 1,  0,  0, -1,  0, -1,  0,  0,  0,  1],\n",
       "       [ 0,  0,  0,  0,  0,  0,  0, -2,  1,  0],\n",
       "       [ 1,  0,  1,  0,  0,  0,  0,  0, -1, -1],\n",
       "       [ 0,  0,  1,  1, -1, -1,  0,  0,  0,  0],\n",
       "       [ 0,  0,  1,  0,  0,  0,  0,  0,  1,  2],\n",
       "       [ 0,  0,  1, -1,  0,  0,  0,  0,  0,  0]], dtype=int32)"
      ]
     },
     "execution_count": 64,
     "metadata": {},
     "output_type": "execute_result"
    }
   ],
   "source": [
    "stock_change.astype(\"int32\")"
   ]
  },
  {
   "cell_type": "code",
   "execution_count": 65,
   "id": "87446b84-09da-4696-877f-8070d0ae9e7c",
   "metadata": {},
   "outputs": [
    {
     "data": {
      "text/plain": [
       "dtype('float64')"
      ]
     },
     "execution_count": 65,
     "metadata": {},
     "output_type": "execute_result"
    }
   ],
   "source": [
    "stock_change.dtype"
   ]
  },
  {
   "cell_type": "code",
   "execution_count": 66,
   "id": "5a741584-b892-48ea-ae65-4b35fd9f911b",
   "metadata": {},
   "outputs": [
    {
     "data": {
      "text/plain": [
       "numpy.ndarray"
      ]
     },
     "execution_count": 66,
     "metadata": {},
     "output_type": "execute_result"
    }
   ],
   "source": [
    "type(stock_change)"
   ]
  },
  {
   "cell_type": "code",
   "execution_count": 67,
   "id": "48171d9f-fbb4-484f-8d65-bdad91a89218",
   "metadata": {},
   "outputs": [
    {
     "data": {
      "text/plain": [
       "b'\\x8c\\xe2\\xc6\\r\\x81\\xbd\\xeb\\xbf\\xa76;\\xfabU\\xf4\\xbf\\xaf\\xd9!\\xc4#]\\xcd?\\x97\\xa9\\x035\\xb1\\xb5\\xf2\\xbf\\'\\xa0bC\\x05\\xfa\\xe9?V|\\x8b6\\xb2g\\xf1\\xbfA\\x01\\x1a\\x10\\x95\\xc4g?Y\\x8c\\xbc\\xda\\x00\\x9a\\xef\\xbf$\\xa9\\x8cDl\\x17\\x96?\\xe1U\\x84\\xf3d\\x8b\\xb6?\\xd3T\\x0b#J1\\xd0?;\\xdeK\\xceU\\x12\\xf2?\\xd1\\xd0\\x9c\\x01(\\x0b\\xe4?B:\\xd6\\n\\x08\\xcb\\xdc?\\x15\\xe793Dv\\xf0\\xbfbH5\\x0b\\xf3\\xa8\\xff?5\\xa6\\xaa;h.\\xf0\\xbf\\x91\\x1f\\x14P\\xc8\\x86\\xe9\\xbf{mnm\\xd1\\xac\\x04\\xc0\\x94\\x88\\x10Y,\\xff\\xe9?\\xa14\\xac4\\xebc\\xfa?\\x84|\\xbc\\xd3Ao\\xc5?V\\xaf\\r\\xd52w\\xd0?P\\x16\\x88\\xde\\xc5b\\xf1\\xbf\\t\\x02\\xb4\\xffLq\\xe0\\xbfQ`\\x93\\xab\\xa4\\x9a\\xf1\\xbfPBj\\x94mF\\xee?\\xa1?\"1\\'\\xbe\\xe4\\xbf?K*\\x99\\x10:\\xee?\\x08\\xbf\\x06\\xe1\\x92h\\xf0?\\xec\\xc9G\\x1b~\\x8d\\x95\\xbf\\x91\\xcab\\xf9\\xe7\\xf1\\xda\\xbfJ\\xed\\xeb\\x91o\\xb4\\xe9\\xbf\\xf1\\xf0\\xa1\\x17V\\xfa\\xe6\\xbfc\\xd5\\xca\\xd8Fw\\xea?\\xcc\\x19?<\\x8a\\x8a\\xe2\\xbf\\x82\\xda\\x8f\\xf45\\xaf\\xcb\\xbf\\xa7\\xa7\\xe9\\xef\\x9f\\xe5\\x03\\xc0\\x87\\xa87&\\x9d\\xec\\xf1?`\\x00\\xb2\\xd2 c\\xe0\\xbfN_\\xa3\\xda\\xda\\xad\\xfd?\\xb5\\xc6U\\xbb\\xdb\\xbb\\xe2?c\\xf4H\\xea\\xe1-\\xf2?\\x08/#8\\xfc)\\xe5?\\xd4G)\\xc6\\x1b\\xe5\\xc9?\\t\\xf5+Z\\x1b0\\xe4\\xbf\\x7f\\xd9\\tB`)\\xea\\xbf_\\x80\\xa7\\xf5\\xa4\\xf8\\xcc?\\x82|\\xe1\\xc6\\x02L\\xf9\\xbf\\xc8\\xe6!j\\x1c\\xf4\\xf1\\xbf6\\x9f\\x0cd\\x05a\\xd8\\xbfS{p\\xd1\\x94[\\xd5?$\\xc3\\xf5q\\xd6R\\xf0?2\\x7f2\\x8c\\xb10\\xfa?=@E\\xf5Q\\xfb\\xf1\\xbf\\xbe-7Mn\\x9a\\xf1\\xbf\\x8c\\xc2\\\\\\xa8x)\\xd9\\xbf\\xed\\xadK\\\\\\x11\\x0b<\\xbf\\x84\\x93o<\\x89\\xec\\xe0?\\xefM\\xdaj\\xa0\\x83\\xd9?75\\x82\\xc4\\'\\xd4\\xe6?\\x80\\xe1\\xe0\\xf9x\\xbf\\xd5?(X\\xb1}\\xb5-\\xf9?\\xe5\\xfa\\x1b\\xf8O=\\xe0?\\xef5\\x0e\\xbf\\x9a\\x07\\xcd?\\xb4\\xa0\\xf0k\\xfd.\\xc4?\\x10\\xcd\\x85\\xaa\\n\\xbe\\xe8?\\x19\\xd5Vf6%\\xdd?\\xd6\\x0eN\\xd5\\x16\\x16\\xf0?\\xa7\\xb9$\\xc6\\x9d\\x00\\x01@\\x99;\\xf8/\\xa4\\xfc\\xba\\xbf\\xeb></\\\\\\x7f\\xca\\xbf\\t\\xcb\\xac9\\x8c\\x84\\xf0??\\xfcXy\\xff\\x9c\\xf7\\xbf\\xd4\\x8e*.#\\x82\\xdb?\\x10)@\\x06\\xdf\\xd8\\xcc?\\xf5\\xbb\\x0b\\xd2\\xb6\\xda\\xd6\\xbf-\\xb3\\xf6\\xa42\\xbf\\xe0\\xbf\\xb7Y\\n\\xef\\xb7\\x92\\xee\\xbf7\\x8b\\x9d\\xa2e\\xd2\\xe3?'"
      ]
     },
     "execution_count": 67,
     "metadata": {},
     "output_type": "execute_result"
    }
   ],
   "source": [
    "# 序列化\n",
    "stock_change.tobytes()"
   ]
  },
  {
   "cell_type": "markdown",
   "id": "820b23e8-8520-4b3e-81e3-42e32fbe0fbe",
   "metadata": {},
   "source": [
    "### 3.3.5 数组的去重"
   ]
  },
  {
   "cell_type": "code",
   "execution_count": 68,
   "id": "f2bf5ddf-c828-42a5-ba08-d1cd5776a6a9",
   "metadata": {},
   "outputs": [],
   "source": [
    "temp = np.array([[1, 2, 3, 4],[3, 4, 5, 6]])"
   ]
  },
  {
   "cell_type": "code",
   "execution_count": 69,
   "id": "43820fb4-a23a-4bec-ad3a-3e954df25ba4",
   "metadata": {},
   "outputs": [
    {
     "data": {
      "text/plain": [
       "array([[1, 2, 3, 4],\n",
       "       [3, 4, 5, 6]])"
      ]
     },
     "execution_count": 69,
     "metadata": {},
     "output_type": "execute_result"
    }
   ],
   "source": [
    "temp"
   ]
  },
  {
   "cell_type": "code",
   "execution_count": 70,
   "id": "814b71aa-063b-4f4f-bff8-c8b5b2560e26",
   "metadata": {},
   "outputs": [
    {
     "data": {
      "text/plain": [
       "array([1, 2, 3, 4, 5, 6])"
      ]
     },
     "execution_count": 70,
     "metadata": {},
     "output_type": "execute_result"
    }
   ],
   "source": [
    "np.unique(temp)"
   ]
  },
  {
   "cell_type": "code",
   "execution_count": 71,
   "id": "ff553b69-3e25-4b7b-a0b8-9654202c2d9d",
   "metadata": {},
   "outputs": [
    {
     "data": {
      "text/plain": [
       "{np.int64(1), np.int64(2), np.int64(3), np.int64(4), np.int64(5), np.int64(6)}"
      ]
     },
     "execution_count": 71,
     "metadata": {},
     "output_type": "execute_result"
    }
   ],
   "source": [
    "set(temp.flatten())"
   ]
  },
  {
   "cell_type": "markdown",
   "id": "810ffd4c-c1c0-4edb-b0c4-20e011ee64c0",
   "metadata": {},
   "source": [
    "### 3.4.1 逻辑运算"
   ]
  },
  {
   "cell_type": "code",
   "execution_count": 72,
   "id": "a1d9ed73-7647-4c33-8a77-e55a96e22f02",
   "metadata": {},
   "outputs": [
    {
     "data": {
      "text/plain": [
       "array([[-8.66882827e-01, -1.27084635e+00,  2.29404898e-01,\n",
       "        -1.16935845e+00,  8.11770088e-01, -1.08781644e+00,\n",
       "         2.90135492e-03, -9.87549236e-01,  2.15737264e-02,\n",
       "         8.80644888e-02],\n",
       "       [ 2.53008398e-01,  1.12947636e+00,  6.26361850e-01,\n",
       "         4.49892054e-01, -1.02887363e+00,  1.97874741e+00,\n",
       "        -1.01132987e+00, -7.97702938e-01, -2.58438383e+00,\n",
       "         8.12399076e-01],\n",
       "       [ 1.64939423e+00,  1.67457798e-01,  2.57275303e-01,\n",
       "        -1.08661448e+00, -5.13830661e-01, -1.10025470e+00,\n",
       "         9.46097174e-01, -6.48212048e-01,  9.44587993e-01,\n",
       "         1.02553070e+00],\n",
       "       [-2.10475639e-02, -4.21014780e-01, -8.03275857e-01,\n",
       "        -7.18058630e-01,  8.27060150e-01, -5.79411619e-01,\n",
       "        -2.16284508e-01, -2.48712146e+00,  1.12026706e+00,\n",
       "        -5.12100612e-01],\n",
       "       [ 1.85494504e+00,  5.85431925e-01,  1.13620178e+00,\n",
       "         6.61375150e-01,  2.02304336e-01, -6.30872418e-01,\n",
       "        -8.17550782e-01,  2.26338024e-01, -1.58105734e+00,\n",
       "        -1.12209741e+00],\n",
       "       [-3.80921695e-01,  3.33714680e-01,  1.02022404e+00,\n",
       "         1.63688807e+00, -1.12385746e+00, -1.10020285e+00,\n",
       "        -3.93156208e-01, -4.27905787e-04,  5.28874033e-01,\n",
       "         3.98658852e-01],\n",
       "       [ 7.13397869e-01,  3.39811558e-01,  1.57365941e+00,\n",
       "         5.07484421e-01,  2.26794570e-01,  1.57684019e-01,\n",
       "         7.73198445e-01,  4.55396271e-01,  1.00539287e+00,\n",
       "         2.12530093e+00],\n",
       "       [-1.05417501e-01, -2.07011722e-01,  1.03236029e+00,\n",
       "        -1.47582958e+00,  4.29817958e-01,  2.25368383e-01,\n",
       "        -3.57099252e-01, -5.23339579e-01, -9.55409972e-01,\n",
       "         6.19433229e-01]])"
      ]
     },
     "execution_count": 72,
     "metadata": {},
     "output_type": "execute_result"
    }
   ],
   "source": [
    "stock_change"
   ]
  },
  {
   "cell_type": "code",
   "execution_count": 73,
   "id": "c4734342-1cd4-48db-ade4-4075edd28db4",
   "metadata": {},
   "outputs": [
    {
     "data": {
      "text/plain": [
       "array([[False, False, False, False,  True, False, False, False, False,\n",
       "        False],\n",
       "       [False,  True,  True, False, False,  True, False, False, False,\n",
       "         True],\n",
       "       [ True, False, False, False, False, False,  True, False,  True,\n",
       "         True],\n",
       "       [False, False, False, False,  True, False, False, False,  True,\n",
       "        False],\n",
       "       [ True,  True,  True,  True, False, False, False, False, False,\n",
       "        False],\n",
       "       [False, False,  True,  True, False, False, False, False,  True,\n",
       "        False],\n",
       "       [ True, False,  True,  True, False, False,  True, False,  True,\n",
       "         True],\n",
       "       [False, False,  True, False, False, False, False, False, False,\n",
       "         True]])"
      ]
     },
     "execution_count": 73,
     "metadata": {},
     "output_type": "execute_result"
    }
   ],
   "source": [
    "# 逻辑判断, 如果涨跌幅大于0.5就标记为True 否则为False\n",
    "stock_change > 0.5"
   ]
  },
  {
   "cell_type": "code",
   "execution_count": 74,
   "id": "25b26381-539b-4400-84a1-49aa0aa24ce6",
   "metadata": {},
   "outputs": [],
   "source": [
    "stock_change[stock_change > 0.5] = 1.1"
   ]
  },
  {
   "cell_type": "code",
   "execution_count": 75,
   "id": "2c1b264d-1410-46d8-8ca2-a35ae9c5ebcb",
   "metadata": {},
   "outputs": [
    {
     "data": {
      "text/plain": [
       "array([[-8.66882827e-01, -1.27084635e+00,  2.29404898e-01,\n",
       "        -1.16935845e+00,  1.10000000e+00, -1.08781644e+00,\n",
       "         2.90135492e-03, -9.87549236e-01,  2.15737264e-02,\n",
       "         8.80644888e-02],\n",
       "       [ 2.53008398e-01,  1.10000000e+00,  1.10000000e+00,\n",
       "         4.49892054e-01, -1.02887363e+00,  1.10000000e+00,\n",
       "        -1.01132987e+00, -7.97702938e-01, -2.58438383e+00,\n",
       "         1.10000000e+00],\n",
       "       [ 1.10000000e+00,  1.67457798e-01,  2.57275303e-01,\n",
       "        -1.08661448e+00, -5.13830661e-01, -1.10025470e+00,\n",
       "         1.10000000e+00, -6.48212048e-01,  1.10000000e+00,\n",
       "         1.10000000e+00],\n",
       "       [-2.10475639e-02, -4.21014780e-01, -8.03275857e-01,\n",
       "        -7.18058630e-01,  1.10000000e+00, -5.79411619e-01,\n",
       "        -2.16284508e-01, -2.48712146e+00,  1.10000000e+00,\n",
       "        -5.12100612e-01],\n",
       "       [ 1.10000000e+00,  1.10000000e+00,  1.10000000e+00,\n",
       "         1.10000000e+00,  2.02304336e-01, -6.30872418e-01,\n",
       "        -8.17550782e-01,  2.26338024e-01, -1.58105734e+00,\n",
       "        -1.12209741e+00],\n",
       "       [-3.80921695e-01,  3.33714680e-01,  1.10000000e+00,\n",
       "         1.10000000e+00, -1.12385746e+00, -1.10020285e+00,\n",
       "        -3.93156208e-01, -4.27905787e-04,  1.10000000e+00,\n",
       "         3.98658852e-01],\n",
       "       [ 1.10000000e+00,  3.39811558e-01,  1.10000000e+00,\n",
       "         1.10000000e+00,  2.26794570e-01,  1.57684019e-01,\n",
       "         1.10000000e+00,  4.55396271e-01,  1.10000000e+00,\n",
       "         1.10000000e+00],\n",
       "       [-1.05417501e-01, -2.07011722e-01,  1.10000000e+00,\n",
       "        -1.47582958e+00,  4.29817958e-01,  2.25368383e-01,\n",
       "        -3.57099252e-01, -5.23339579e-01, -9.55409972e-01,\n",
       "         1.10000000e+00]])"
      ]
     },
     "execution_count": 75,
     "metadata": {},
     "output_type": "execute_result"
    }
   ],
   "source": [
    "stock_change"
   ]
  },
  {
   "cell_type": "code",
   "execution_count": 76,
   "id": "ede874bb-9f5d-4152-b071-8baddda2a819",
   "metadata": {},
   "outputs": [
    {
     "data": {
      "text/plain": [
       "array([[False, False,  True, False,  True],\n",
       "       [ True,  True,  True,  True, False]])"
      ]
     },
     "execution_count": 76,
     "metadata": {},
     "output_type": "execute_result"
    }
   ],
   "source": [
    "# 判断stock_change[0:2, 0:5]是否全是上涨的\n",
    "stock_change[0:2, 0:5] > 0"
   ]
  },
  {
   "cell_type": "code",
   "execution_count": 77,
   "id": "28124534-f8e2-4d14-9b6b-25d971f28aa5",
   "metadata": {},
   "outputs": [
    {
     "data": {
      "text/plain": [
       "np.False_"
      ]
     },
     "execution_count": 77,
     "metadata": {},
     "output_type": "execute_result"
    }
   ],
   "source": [
    "np.all(stock_change[0:2, 0:5] > 0)"
   ]
  },
  {
   "cell_type": "code",
   "execution_count": 78,
   "id": "09ebc4a9-602e-4dbb-8b92-2d6d20f56867",
   "metadata": {},
   "outputs": [
    {
     "data": {
      "text/plain": [
       "np.True_"
      ]
     },
     "execution_count": 78,
     "metadata": {},
     "output_type": "execute_result"
    }
   ],
   "source": [
    "# 判断前5只股票这段期间是否有上涨的\n",
    "np.any(stock_change[:5, :] > 0)"
   ]
  },
  {
   "cell_type": "markdown",
   "id": "35739c93-1b9b-45b0-8792-0cc8903dfb0e",
   "metadata": {},
   "source": [
    "### 3.4.3 np.where（三元运算符）"
   ]
  },
  {
   "cell_type": "code",
   "execution_count": 79,
   "id": "cefd3276-158f-47c2-8d49-b8270adf06c4",
   "metadata": {},
   "outputs": [],
   "source": [
    "# 判断前四个股票前四天的涨跌幅 大于0的置为1，否则为0\n",
    "temp = stock_change[:4, :4]"
   ]
  },
  {
   "cell_type": "code",
   "execution_count": 80,
   "id": "01561b6d-f49d-4362-9a60-5ffa0e41deb5",
   "metadata": {},
   "outputs": [
    {
     "data": {
      "text/plain": [
       "array([[-0.86688283, -1.27084635,  0.2294049 , -1.16935845],\n",
       "       [ 0.2530084 ,  1.1       ,  1.1       ,  0.44989205],\n",
       "       [ 1.1       ,  0.1674578 ,  0.2572753 , -1.08661448],\n",
       "       [-0.02104756, -0.42101478, -0.80327586, -0.71805863]])"
      ]
     },
     "execution_count": 80,
     "metadata": {},
     "output_type": "execute_result"
    }
   ],
   "source": [
    "temp"
   ]
  },
  {
   "cell_type": "code",
   "execution_count": 81,
   "id": "1ec0c577-27f0-41be-b906-bf3783ac728d",
   "metadata": {},
   "outputs": [
    {
     "data": {
      "text/plain": [
       "array([[0, 0, 1, 0],\n",
       "       [1, 1, 1, 1],\n",
       "       [1, 1, 1, 0],\n",
       "       [0, 0, 0, 0]])"
      ]
     },
     "execution_count": 81,
     "metadata": {},
     "output_type": "execute_result"
    }
   ],
   "source": [
    "np.where(temp > 0, 1, 0)"
   ]
  },
  {
   "cell_type": "code",
   "execution_count": 82,
   "id": "849cbd67-f1a4-4686-884d-1caca5cf993a",
   "metadata": {},
   "outputs": [
    {
     "data": {
      "text/plain": [
       "array([[False, False, False, False],\n",
       "       [False, False, False, False],\n",
       "       [False, False, False, False],\n",
       "       [False, False, False, False]])"
      ]
     },
     "execution_count": 82,
     "metadata": {},
     "output_type": "execute_result"
    }
   ],
   "source": [
    "# 判断前四个股票前四天的涨跌幅 大于0.5并且小于1的，换为1，否则为0\n",
    "# 判断前四个股票前四天的涨跌幅 大于0.5或者小于-0.5的，换为1，否则为0\n",
    "\n",
    "np.logical_and(temp > 0.5, temp < 1)"
   ]
  },
  {
   "cell_type": "code",
   "execution_count": 83,
   "id": "ed615153-c7ef-4667-b1e9-2381edb624ef",
   "metadata": {},
   "outputs": [
    {
     "data": {
      "text/plain": [
       "array([[0, 0, 0, 0],\n",
       "       [0, 0, 0, 0],\n",
       "       [0, 0, 0, 0],\n",
       "       [0, 0, 0, 0]])"
      ]
     },
     "execution_count": 83,
     "metadata": {},
     "output_type": "execute_result"
    }
   ],
   "source": [
    "np.where(np.logical_and(temp > 0.5, temp < 1), 1, 0)"
   ]
  },
  {
   "cell_type": "code",
   "execution_count": 84,
   "id": "db4944ab-a245-4c0d-89fb-3e655e83603d",
   "metadata": {},
   "outputs": [
    {
     "data": {
      "text/plain": [
       "array([[ True,  True, False,  True],\n",
       "       [False,  True,  True, False],\n",
       "       [ True, False, False,  True],\n",
       "       [False, False,  True,  True]])"
      ]
     },
     "execution_count": 84,
     "metadata": {},
     "output_type": "execute_result"
    }
   ],
   "source": [
    "np.logical_or(temp > 0.5, temp < -0.5)"
   ]
  },
  {
   "cell_type": "code",
   "execution_count": 86,
   "id": "9fa3ca62-9a4f-4540-b606-9a7c01b80eb5",
   "metadata": {},
   "outputs": [
    {
     "data": {
      "text/plain": [
       "array([[1, 1, 0, 1],\n",
       "       [0, 1, 1, 0],\n",
       "       [1, 0, 0, 1],\n",
       "       [0, 0, 1, 1]])"
      ]
     },
     "execution_count": 86,
     "metadata": {},
     "output_type": "execute_result"
    }
   ],
   "source": [
    "np.where(np.logical_or(temp > 0.5, temp < -0.5), 1, 0)"
   ]
  },
  {
   "cell_type": "markdown",
   "id": "e631a6e6-c1e2-46d1-94e1-d8dd02b0a23b",
   "metadata": {},
   "source": [
    "### 3.4.2 统计运算"
   ]
  },
  {
   "cell_type": "code",
   "execution_count": 87,
   "id": "aed486bb-f969-4f3f-92b9-b6ff2b64e4ba",
   "metadata": {},
   "outputs": [
    {
     "data": {
      "text/plain": [
       "array([[-0.86688283, -1.27084635,  0.2294049 , -1.16935845],\n",
       "       [ 0.2530084 ,  1.1       ,  1.1       ,  0.44989205],\n",
       "       [ 1.1       ,  0.1674578 ,  0.2572753 , -1.08661448],\n",
       "       [-0.02104756, -0.42101478, -0.80327586, -0.71805863]])"
      ]
     },
     "execution_count": 87,
     "metadata": {},
     "output_type": "execute_result"
    }
   ],
   "source": [
    "# 前四只股票前四天的最大涨幅\n",
    "temp # shape: (4, 4) 0  1"
   ]
  },
  {
   "cell_type": "code",
   "execution_count": 88,
   "id": "f2ea3400-f712-4124-9ed2-fe9e3cd98a6e",
   "metadata": {},
   "outputs": [
    {
     "data": {
      "text/plain": [
       "array([1.1       , 1.1       , 1.1       , 0.44989205])"
      ]
     },
     "execution_count": 88,
     "metadata": {},
     "output_type": "execute_result"
    }
   ],
   "source": [
    "temp.max(axis=0)"
   ]
  },
  {
   "cell_type": "code",
   "execution_count": 89,
   "id": "dcf00285-c462-4aba-903a-dfcae5d71b74",
   "metadata": {},
   "outputs": [
    {
     "data": {
      "text/plain": [
       "array([ 0.2294049 ,  1.1       ,  1.1       , -0.02104756])"
      ]
     },
     "execution_count": 89,
     "metadata": {},
     "output_type": "execute_result"
    }
   ],
   "source": [
    "np.max(temp, axis=-1)"
   ]
  },
  {
   "cell_type": "code",
   "execution_count": 90,
   "id": "8e217820-71f8-494b-aea7-5e583d5ea9ea",
   "metadata": {},
   "outputs": [
    {
     "data": {
      "text/plain": [
       "array([2, 1, 0, 0])"
      ]
     },
     "execution_count": 90,
     "metadata": {},
     "output_type": "execute_result"
    }
   ],
   "source": [
    "np.argmax(temp, axis=-1)"
   ]
  },
  {
   "cell_type": "markdown",
   "id": "17b89e70-8e68-4337-b334-b18c909bd9a9",
   "metadata": {},
   "source": [
    "### 3.5.2 数组与数的运算"
   ]
  },
  {
   "cell_type": "code",
   "execution_count": 91,
   "id": "f7fdda85-fe0e-4bfe-a862-7994d468691b",
   "metadata": {},
   "outputs": [],
   "source": [
    "arr = np.array([[1, 2, 3, 2, 1, 4], [5, 6, 1, 2, 3, 1]])"
   ]
  },
  {
   "cell_type": "code",
   "execution_count": 92,
   "id": "bad4053f-9ad0-4cb9-95c0-e4f81dc54309",
   "metadata": {},
   "outputs": [
    {
     "data": {
      "text/plain": [
       "array([[0.1, 0.2, 0.3, 0.2, 0.1, 0.4],\n",
       "       [0.5, 0.6, 0.1, 0.2, 0.3, 0.1]])"
      ]
     },
     "execution_count": 92,
     "metadata": {},
     "output_type": "execute_result"
    }
   ],
   "source": [
    "arr / 10"
   ]
  },
  {
   "cell_type": "code",
   "execution_count": 93,
   "id": "3038b26f-d795-48ed-b35d-c92f255e574d",
   "metadata": {},
   "outputs": [],
   "source": [
    "a = [1, 2, 3, 4, 5]"
   ]
  },
  {
   "cell_type": "code",
   "execution_count": 95,
   "id": "b4aee89e-fbd4-4159-979f-75f2d1a539d1",
   "metadata": {},
   "outputs": [],
   "source": [
    "# a * 10"
   ]
  },
  {
   "cell_type": "markdown",
   "id": "eef8baff-3568-4244-87d0-f4cb6df130fe",
   "metadata": {},
   "source": [
    "### 3.5.3 数组与数组的运算"
   ]
  },
  {
   "cell_type": "code",
   "execution_count": 96,
   "id": "61d1ca90-7f55-4811-93cd-f668c091a333",
   "metadata": {},
   "outputs": [],
   "source": [
    "arr1 = np.array([[1, 2, 3, 2, 1, 4], [5, 6, 1, 2, 3, 1]])\n",
    "arr2 = np.array([[1], [3]])"
   ]
  },
  {
   "cell_type": "code",
   "execution_count": 97,
   "id": "fbeb488a-3fb8-4c6b-ac47-25b854974aae",
   "metadata": {},
   "outputs": [
    {
     "data": {
      "text/plain": [
       "array([[1, 2, 3, 2, 1, 4],\n",
       "       [5, 6, 1, 2, 3, 1]])"
      ]
     },
     "execution_count": 97,
     "metadata": {},
     "output_type": "execute_result"
    }
   ],
   "source": [
    "arr1 # (2, 6)"
   ]
  },
  {
   "cell_type": "code",
   "execution_count": 98,
   "id": "f58ccd9d-86d6-4afa-90a9-5dcbd87c1d0c",
   "metadata": {},
   "outputs": [
    {
     "data": {
      "text/plain": [
       "array([[1],\n",
       "       [3]])"
      ]
     },
     "execution_count": 98,
     "metadata": {},
     "output_type": "execute_result"
    }
   ],
   "source": [
    "arr2 # (2, 1)"
   ]
  },
  {
   "cell_type": "code",
   "execution_count": 99,
   "id": "c4a247df-7998-4300-809f-4e2613386327",
   "metadata": {},
   "outputs": [
    {
     "data": {
      "text/plain": [
       "array([[2, 3, 4, 3, 2, 5],\n",
       "       [8, 9, 4, 5, 6, 4]])"
      ]
     },
     "execution_count": 99,
     "metadata": {},
     "output_type": "execute_result"
    }
   ],
   "source": [
    "arr1 + arr2"
   ]
  },
  {
   "cell_type": "code",
   "execution_count": 100,
   "id": "710595b0-69ba-4352-99cf-3d4941d7034c",
   "metadata": {},
   "outputs": [
    {
     "data": {
      "text/plain": [
       "array([[ 1,  2,  3,  2,  1,  4],\n",
       "       [15, 18,  3,  6,  9,  3]])"
      ]
     },
     "execution_count": 100,
     "metadata": {},
     "output_type": "execute_result"
    }
   ],
   "source": [
    "arr1 * arr2"
   ]
  },
  {
   "cell_type": "code",
   "execution_count": 101,
   "id": "b890f764-e639-4ad2-949b-820a0f68b9c2",
   "metadata": {},
   "outputs": [
    {
     "data": {
      "text/plain": [
       "array([[1.        , 2.        , 3.        , 2.        , 1.        ,\n",
       "        4.        ],\n",
       "       [1.66666667, 2.        , 0.33333333, 0.66666667, 1.        ,\n",
       "        0.33333333]])"
      ]
     },
     "execution_count": 101,
     "metadata": {},
     "output_type": "execute_result"
    }
   ],
   "source": [
    "arr1 / arr2"
   ]
  },
  {
   "cell_type": "markdown",
   "id": "e0725c64-981f-4ef1-8fda-0000f9d74ade",
   "metadata": {},
   "source": [
    "### 3.5.5 矩阵运算"
   ]
  },
  {
   "cell_type": "code",
   "execution_count": 102,
   "id": "de3043c1-b145-4415-8c0b-c067df094a46",
   "metadata": {},
   "outputs": [],
   "source": [
    "# ndarray存储矩阵\n",
    "data = np.array([[80, 86],\n",
    "[82, 80],\n",
    "[85, 78],\n",
    "[90, 90],\n",
    "[86, 82],\n",
    "[82, 90],\n",
    "[78, 80],\n",
    "[92, 94]])"
   ]
  },
  {
   "cell_type": "code",
   "execution_count": 103,
   "id": "d39bb5d0-e2bd-4a74-908e-35b8deb326a3",
   "metadata": {},
   "outputs": [
    {
     "data": {
      "text/plain": [
       "array([[80, 86],\n",
       "       [82, 80],\n",
       "       [85, 78],\n",
       "       [90, 90],\n",
       "       [86, 82],\n",
       "       [82, 90],\n",
       "       [78, 80],\n",
       "       [92, 94]])"
      ]
     },
     "execution_count": 103,
     "metadata": {},
     "output_type": "execute_result"
    }
   ],
   "source": [
    "data"
   ]
  },
  {
   "cell_type": "code",
   "execution_count": 104,
   "id": "ad9f1987-4fc0-4607-9212-67b956cccaf9",
   "metadata": {},
   "outputs": [],
   "source": [
    "weights = np.array([[0.3], [0.7]])"
   ]
  },
  {
   "cell_type": "code",
   "execution_count": 105,
   "id": "5f75c08c-ad4d-45f8-80c7-47cdeb832f39",
   "metadata": {},
   "outputs": [
    {
     "data": {
      "text/plain": [
       "array([[0.3],\n",
       "       [0.7]])"
      ]
     },
     "execution_count": 105,
     "metadata": {},
     "output_type": "execute_result"
    }
   ],
   "source": [
    "weights"
   ]
  },
  {
   "cell_type": "code",
   "execution_count": 106,
   "id": "b65149e9-5e9c-4909-8b36-316e12e4c32e",
   "metadata": {},
   "outputs": [
    {
     "data": {
      "text/plain": [
       "numpy.ndarray"
      ]
     },
     "execution_count": 106,
     "metadata": {},
     "output_type": "execute_result"
    }
   ],
   "source": [
    "type(data)"
   ]
  },
  {
   "cell_type": "code",
   "execution_count": 108,
   "id": "3fef8278-2482-46ce-9633-404f1b8d031f",
   "metadata": {},
   "outputs": [],
   "source": [
    "# matrix存储矩阵\n",
    "data_mat = np.asmatrix([[80, 86],\n",
    "[82, 80],\n",
    "[85, 78],\n",
    "[90, 90],\n",
    "[86, 82],\n",
    "[82, 90],\n",
    "[78, 80],\n",
    "[92, 94]])"
   ]
  },
  {
   "cell_type": "code",
   "execution_count": 109,
   "id": "b25869c5-960c-4d9d-91bc-9efb6ac2b354",
   "metadata": {},
   "outputs": [
    {
     "data": {
      "text/plain": [
       "matrix([[80, 86],\n",
       "        [82, 80],\n",
       "        [85, 78],\n",
       "        [90, 90],\n",
       "        [86, 82],\n",
       "        [82, 90],\n",
       "        [78, 80],\n",
       "        [92, 94]])"
      ]
     },
     "execution_count": 109,
     "metadata": {},
     "output_type": "execute_result"
    }
   ],
   "source": [
    "data_mat"
   ]
  },
  {
   "cell_type": "code",
   "execution_count": 110,
   "id": "1f54192e-7f44-41f0-bdfe-268d50298d04",
   "metadata": {},
   "outputs": [
    {
     "data": {
      "text/plain": [
       "numpy.matrix"
      ]
     },
     "execution_count": 110,
     "metadata": {},
     "output_type": "execute_result"
    }
   ],
   "source": [
    "type(data_mat)"
   ]
  },
  {
   "cell_type": "code",
   "execution_count": 111,
   "id": "4aa0a2b3-7d6e-4f10-bf25-e8651b30ff1a",
   "metadata": {},
   "outputs": [],
   "source": [
    "weights_mat = np.asmatrix([[0.3], [0.7]])"
   ]
  },
  {
   "cell_type": "code",
   "execution_count": 112,
   "id": "0a0aa5de-c46f-455c-8e1b-90379b2dbead",
   "metadata": {},
   "outputs": [
    {
     "data": {
      "text/plain": [
       "matrix([[0.3],\n",
       "        [0.7]])"
      ]
     },
     "execution_count": 112,
     "metadata": {},
     "output_type": "execute_result"
    }
   ],
   "source": [
    "weights_mat"
   ]
  },
  {
   "cell_type": "code",
   "execution_count": 113,
   "id": "a56870f5-b135-4982-a4d6-1062242985e5",
   "metadata": {},
   "outputs": [
    {
     "data": {
      "text/plain": [
       "array([[84.2],\n",
       "       [80.6],\n",
       "       [80.1],\n",
       "       [90. ],\n",
       "       [83.2],\n",
       "       [87.6],\n",
       "       [79.4],\n",
       "       [93.4]])"
      ]
     },
     "execution_count": 113,
     "metadata": {},
     "output_type": "execute_result"
    }
   ],
   "source": [
    "# 矩阵运算\n",
    "np.matmul(data, weights)"
   ]
  },
  {
   "cell_type": "code",
   "execution_count": 114,
   "id": "eea0674f-962c-4e4c-8f35-a7559009055f",
   "metadata": {},
   "outputs": [
    {
     "data": {
      "text/plain": [
       "array([[84.2],\n",
       "       [80.6],\n",
       "       [80.1],\n",
       "       [90. ],\n",
       "       [83.2],\n",
       "       [87.6],\n",
       "       [79.4],\n",
       "       [93.4]])"
      ]
     },
     "execution_count": 114,
     "metadata": {},
     "output_type": "execute_result"
    }
   ],
   "source": [
    "np.dot(data, weights)"
   ]
  },
  {
   "cell_type": "code",
   "execution_count": 116,
   "id": "11e22f38-0fb8-428b-828d-2d3eb0c01cf2",
   "metadata": {},
   "outputs": [
    {
     "data": {
      "text/plain": [
       "array([[84.2],\n",
       "       [80.6],\n",
       "       [80.1],\n",
       "       [90. ],\n",
       "       [83.2],\n",
       "       [87.6],\n",
       "       [79.4],\n",
       "       [93.4]])"
      ]
     },
     "execution_count": 116,
     "metadata": {},
     "output_type": "execute_result"
    }
   ],
   "source": [
    "data @ weights"
   ]
  },
  {
   "cell_type": "code",
   "execution_count": 115,
   "id": "7a1b8e00-5e56-4d87-9eca-c88ba53c022b",
   "metadata": {},
   "outputs": [
    {
     "data": {
      "text/plain": [
       "matrix([[84.2],\n",
       "        [80.6],\n",
       "        [80.1],\n",
       "        [90. ],\n",
       "        [83.2],\n",
       "        [87.6],\n",
       "        [79.4],\n",
       "        [93.4]])"
      ]
     },
     "execution_count": 115,
     "metadata": {},
     "output_type": "execute_result"
    }
   ],
   "source": [
    "data_mat * weights_mat"
   ]
  },
  {
   "cell_type": "code",
   "execution_count": 117,
   "id": "51c3ebb8-121a-49b0-94e7-16ca5e2a91f7",
   "metadata": {},
   "outputs": [],
   "source": [
    "# data * weights 不满足广播机制，不能进行运算"
   ]
  },
  {
   "cell_type": "code",
   "execution_count": 118,
   "id": "22e911ee-66e1-4248-a9df-b8c9afa184a1",
   "metadata": {},
   "outputs": [
    {
     "data": {
      "text/plain": [
       "matrix([[84.2],\n",
       "        [80.6],\n",
       "        [80.1],\n",
       "        [90. ],\n",
       "        [83.2],\n",
       "        [87.6],\n",
       "        [79.4],\n",
       "        [93.4]])"
      ]
     },
     "execution_count": 118,
     "metadata": {},
     "output_type": "execute_result"
    }
   ],
   "source": [
    "np.matmul(data_mat, weights_mat)"
   ]
  },
  {
   "cell_type": "markdown",
   "id": "a1763bbf-a4f3-4d29-a0db-cd0602c946d1",
   "metadata": {},
   "source": [
    "### 3.6.1 合并"
   ]
  },
  {
   "cell_type": "code",
   "execution_count": 119,
   "id": "dff8e4fa-ea60-4ed7-8dd1-33588423aaa4",
   "metadata": {},
   "outputs": [],
   "source": [
    "a = stock_change[:2, 0:4]\n",
    "b = stock_change[4:6, 0:4]"
   ]
  },
  {
   "cell_type": "code",
   "execution_count": 120,
   "id": "9db5b868-86e0-4335-93ee-a987b0e9c022",
   "metadata": {},
   "outputs": [
    {
     "data": {
      "text/plain": [
       "array([[-0.86688283, -1.27084635,  0.2294049 , -1.16935845],\n",
       "       [ 0.2530084 ,  1.1       ,  1.1       ,  0.44989205]])"
      ]
     },
     "execution_count": 120,
     "metadata": {},
     "output_type": "execute_result"
    }
   ],
   "source": [
    "a"
   ]
  },
  {
   "cell_type": "code",
   "execution_count": 121,
   "id": "17c279d1-f259-4a55-aac8-773a9b1129fa",
   "metadata": {},
   "outputs": [
    {
     "data": {
      "text/plain": [
       "array([[ 1.1       ,  1.1       ,  1.1       ,  1.1       ],\n",
       "       [-0.3809217 ,  0.33371468,  1.1       ,  1.1       ]])"
      ]
     },
     "execution_count": 121,
     "metadata": {},
     "output_type": "execute_result"
    }
   ],
   "source": [
    "b"
   ]
  },
  {
   "cell_type": "code",
   "execution_count": 122,
   "id": "770ea4c5-cfeb-4fe0-baa4-25f17c552032",
   "metadata": {},
   "outputs": [
    {
     "data": {
      "text/plain": [
       "array([[-0.86688283, -1.27084635,  0.2294049 , -1.16935845,  1.1       ,\n",
       "         1.1       ,  1.1       ,  1.1       ],\n",
       "       [ 0.2530084 ,  1.1       ,  1.1       ,  0.44989205, -0.3809217 ,\n",
       "         0.33371468,  1.1       ,  1.1       ]])"
      ]
     },
     "execution_count": 122,
     "metadata": {},
     "output_type": "execute_result"
    }
   ],
   "source": [
    "np.hstack((a, b))"
   ]
  },
  {
   "cell_type": "code",
   "execution_count": 123,
   "id": "54046501-743c-486b-9791-478fb8e334fe",
   "metadata": {},
   "outputs": [
    {
     "data": {
      "text/plain": [
       "array([[-0.86688283, -1.27084635,  0.2294049 , -1.16935845,  1.1       ,\n",
       "         1.1       ,  1.1       ,  1.1       ],\n",
       "       [ 0.2530084 ,  1.1       ,  1.1       ,  0.44989205, -0.3809217 ,\n",
       "         0.33371468,  1.1       ,  1.1       ]])"
      ]
     },
     "execution_count": 123,
     "metadata": {},
     "output_type": "execute_result"
    }
   ],
   "source": [
    "np.concatenate((a, b), axis=1)"
   ]
  },
  {
   "cell_type": "code",
   "execution_count": 124,
   "id": "2dc7d715-222b-43c9-b3bf-859dbf5bb629",
   "metadata": {},
   "outputs": [
    {
     "data": {
      "text/plain": [
       "array([[-0.86688283, -1.27084635,  0.2294049 , -1.16935845],\n",
       "       [ 0.2530084 ,  1.1       ,  1.1       ,  0.44989205],\n",
       "       [ 1.1       ,  1.1       ,  1.1       ,  1.1       ],\n",
       "       [-0.3809217 ,  0.33371468,  1.1       ,  1.1       ]])"
      ]
     },
     "execution_count": 124,
     "metadata": {},
     "output_type": "execute_result"
    }
   ],
   "source": [
    "np.vstack((a, b))"
   ]
  },
  {
   "cell_type": "code",
   "execution_count": 125,
   "id": "2479b781-25d6-4d23-963b-81f756b24a81",
   "metadata": {},
   "outputs": [
    {
     "data": {
      "text/plain": [
       "array([[-0.86688283, -1.27084635,  0.2294049 , -1.16935845],\n",
       "       [ 0.2530084 ,  1.1       ,  1.1       ,  0.44989205],\n",
       "       [ 1.1       ,  1.1       ,  1.1       ,  1.1       ],\n",
       "       [-0.3809217 ,  0.33371468,  1.1       ,  1.1       ]])"
      ]
     },
     "execution_count": 125,
     "metadata": {},
     "output_type": "execute_result"
    }
   ],
   "source": [
    "np.concatenate((a, b), axis=0)"
   ]
  },
  {
   "cell_type": "code",
   "execution_count": null,
   "id": "80f7ab5a-3e20-42f2-a6ac-fa1e40b7dc97",
   "metadata": {},
   "outputs": [],
   "source": []
  }
 ],
 "metadata": {
  "kernelspec": {
   "display_name": "Python 3 (ipykernel)",
   "language": "python",
   "name": "python3"
  },
  "language_info": {
   "codemirror_mode": {
    "name": "ipython",
    "version": 3
   },
   "file_extension": ".py",
   "mimetype": "text/x-python",
   "name": "python",
   "nbconvert_exporter": "python",
   "pygments_lexer": "ipython3",
   "version": "3.10.16"
  }
 },
 "nbformat": 4,
 "nbformat_minor": 5
}
